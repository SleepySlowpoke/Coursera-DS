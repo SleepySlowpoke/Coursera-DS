{
 "cells": [
  {
   "cell_type": "markdown",
   "id": "7b380f4a-9510-4045-966e-1ff8631dbe87",
   "metadata": {},
   "source": [
    "# Data Science Tools and Ecosystem"
   ]
  },
  {
   "cell_type": "markdown",
   "id": "2495479f-ae19-4be5-b2d6-3dfb09b34018",
   "metadata": {},
   "source": [
    "#### In this notebook, Data Science Tools and Ecosystem are summarized."
   ]
  },
  {
   "cell_type": "markdown",
   "id": "07fe0b8b-1c87-49e7-93ed-1ede03182f46",
   "metadata": {},
   "source": [
    "**Objectives:**\n",
    "+ Examples of popular languages in Data Science\n",
    "+ Examples of commonly used Libraries\n",
    "+ Examples of Open-Source Development Enviorments\n",
    "+ Examples of arithmetic expressions in Python "
   ]
  },
  {
   "cell_type": "markdown",
   "id": "607836fd-de85-4c60-9366-d14da12cef8d",
   "metadata": {},
   "source": [
    "### Some of the popular languages that Data Scientists use are:\n",
    "1. Python\n",
    "2. R\n",
    "3. MySQL\n",
    "4. ApacheSpark\n",
    "5. C++"
   ]
  },
  {
   "cell_type": "markdown",
   "id": "0f1399dc-8866-4475-938b-03be62e91ec9",
   "metadata": {},
   "source": [
    "#### Some of the commonly used libraries used by Data Scientists include:\n",
    "1. Pandas (Data strucutres)\n",
    "2. NumPy (Mathematical Functions)\n",
    "3. Matplotlib (Graphs and Plots)\n",
    "4. Scikit-learn (Statistical Modeling)\n",
    "5. Keras (Deep Learning)\n",
    "6. Pytorch (experimentation)"
   ]
  },
  {
   "cell_type": "markdown",
   "id": "e31188c7-9d95-488f-a52b-a36067b38b49",
   "metadata": {},
   "source": [
    "| **Data Science Tools** |\n",
    "|:--------------------:|\n",
    "| *Apache Spark* |\n",
    "| *Jupyter Labs* |\n",
    "| *R Studio* |"
   ]
  },
  {
   "cell_type": "markdown",
   "id": "197748ec-ee9a-442d-bc89-f9c12aa48c9d",
   "metadata": {},
   "source": [
    "### Below are a few examples of evaluating arithmetic expressions in Python"
   ]
  },
  {
   "cell_type": "code",
   "execution_count": 4,
   "id": "2e098448-9b70-46cc-a9f1-ab1d985c2761",
   "metadata": {},
   "outputs": [
    {
     "data": {
      "text/plain": [
       "17"
      ]
     },
     "execution_count": 4,
     "metadata": {},
     "output_type": "execute_result"
    }
   ],
   "source": [
    "#This a simple arithmetic expression to mutiply then add integers\n",
    "(3*4)+5"
   ]
  },
  {
   "cell_type": "code",
   "execution_count": 12,
   "id": "a1c244bd-9cce-4af8-8c82-4606a703a53d",
   "metadata": {},
   "outputs": [
    {
     "data": {
      "text/plain": [
       "3.3333333333333335"
      ]
     },
     "execution_count": 12,
     "metadata": {},
     "output_type": "execute_result"
    }
   ],
   "source": [
    "#This will convert 200 minutes to hours by diving by 60\n",
    "200/60"
   ]
  },
  {
   "cell_type": "markdown",
   "id": "0c646203-34b4-48cf-ab92-69f14e6407cb",
   "metadata": {},
   "source": [
    "## __Author__\n",
    "Saul Hernandez"
   ]
  }
 ],
 "metadata": {
  "kernelspec": {
   "display_name": "Python 3 (ipykernel)",
   "language": "python",
   "name": "python3"
  },
  "language_info": {
   "codemirror_mode": {
    "name": "ipython",
    "version": 3
   },
   "file_extension": ".py",
   "mimetype": "text/x-python",
   "name": "python",
   "nbconvert_exporter": "python",
   "pygments_lexer": "ipython3",
   "version": "3.11.7"
  }
 },
 "nbformat": 4,
 "nbformat_minor": 5
}
